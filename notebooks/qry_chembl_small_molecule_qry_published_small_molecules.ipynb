{
 "cells": [
  {
   "cell_type": "code",
   "execution_count": null,
   "metadata": {},
   "outputs": [],
   "source": [
    "\"\"\"\n",
    "%sql postgresql://localhost/chembl_35 \\\n",
    "    select doc_id,count(distinct molregno) cnt into temporary table doc_compound_counts \\\n",
    "      from docs join compound_records using (doc_id) join compound_structures using (molregno) \\\n",
    "      group by (doc_id);\n",
    "\n",
    "%sql \\\n",
    "    select count(*) from doc_compound_counts where cnt>=20 and cnt<=100;\n",
    "\"\"\""
   ]
  }
 ],
 "metadata": {
  "kernelspec": {
   "display_name": "rdkit-arm64",
   "language": "python",
   "name": "python3"
  },
  "language_info": {
   "name": "python",
   "version": "3.13.2"
  }
 },
 "nbformat": 4,
 "nbformat_minor": 2
}
