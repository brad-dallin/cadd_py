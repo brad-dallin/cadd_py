{
 "cells": [
  {
   "cell_type": "code",
   "execution_count": null,
   "metadata": {},
   "outputs": [],
   "source": [
    "\"\"\"\n",
    "%sql postgresql://localhost/chembl_35 \\\n",
    "    select doc_id,count(distinct molregno) cnt into temporary table doc_compound_counts \\\n",
    "      from docs join compound_records using (doc_id) join compound_structures using (molregno) \\\n",
    "      group by (doc_id);\n",
    "\n",
    "%sql \\\n",
    "    select count(*) from doc_compound_counts where cnt>=20 and cnt<=100;\n",
    "\"\"\""
   ]
  }
 ],
 "metadata": {
  "language_info": {
   "name": "python"
  }
 },
 "nbformat": 4,
 "nbformat_minor": 2
}
